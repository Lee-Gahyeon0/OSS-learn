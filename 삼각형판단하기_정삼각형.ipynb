{
  "nbformat": 4,
  "nbformat_minor": 0,
  "metadata": {
    "colab": {
      "provenance": [],
      "authorship_tag": "ABX9TyPg0VbhJRfquHsfVBRF8Rgo",
      "include_colab_link": true
    },
    "kernelspec": {
      "name": "python3",
      "display_name": "Python 3"
    },
    "language_info": {
      "name": "python"
    }
  },
  "cells": [
    {
      "cell_type": "markdown",
      "metadata": {
        "id": "view-in-github",
        "colab_type": "text"
      },
      "source": [
        "<a href=\"https://colab.research.google.com/github/Lee-Gahyeon0/OSS-learn/blob/main/%EC%82%BC%EA%B0%81%ED%98%95%ED%8C%90%EB%8B%A8%ED%95%98%EA%B8%B0_%EC%A0%95%EC%82%BC%EA%B0%81%ED%98%95.ipynb\" target=\"_parent\"><img src=\"https://colab.research.google.com/assets/colab-badge.svg\" alt=\"Open In Colab\"/></a>"
      ]
    },
    {
      "cell_type": "markdown",
      "source": [
        "## **삼각형 판단하기**\n",
        "본 수업에서는 **삼각형의 세변의 길이** 를 받아서 어떠한 삼각형인지 알려주는 프로그램을 개발합니다. 제안하는 프로그램은 사용자로부터 3개의 입력을 받습니다."
      ],
      "metadata": {
        "id": "GJ_99HDP_gLi"
      }
    },
    {
      "cell_type": "code",
      "source": [
        "a = 102  # @param {type: \"number\"}\n",
        "b = 25  # @param {type: \"number\"}\n",
        "c = 10  # @param {type: \"number\"}\n",
        "date = '2010-11-05'  # @param {type: \"date\"}\n",
        "pick_me = \"monday\"  # @param ['monday', 'tuesday', 'wednesday', 'thursday']\n",
        "select_or_input = \"apples\" # @param [\"apples\", \"bananas\", \"oranges\"] {allow-input: true}\n",
        "# @markdown ---\n"
      ],
      "metadata": {
        "id": "Wg82MobyB--y"
      },
      "execution_count": 1,
      "outputs": []
    },
    {
      "cell_type": "markdown",
      "source": [
        "\n",
        "### 정삼각형\n",
        "A = B = C 정삼각형🔺"
      ],
      "metadata": {
        "id": "QRlqC04BChtJ"
      }
    },
    {
      "cell_type": "code",
      "execution_count": 2,
      "metadata": {
        "colab": {
          "base_uri": "https://localhost:8080/"
        },
        "id": "f3M5Wv-B_S2g",
        "outputId": "cd2e4772-76d0-4293-d5e1-013b8127e7e3"
      },
      "outputs": [
        {
          "output_type": "stream",
          "name": "stdout",
          "text": [
            "정삼각형이 아님\n"
          ]
        }
      ],
      "source": [
        "if a==b==c:\n",
        "    print(\"정삼각형\")\n",
        "else:\n",
        "    print(\"정삼각형이 아님\")"
      ]
    }
  ]
}